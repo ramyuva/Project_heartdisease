{
 "cells": [
  {
   "cell_type": "code",
   "execution_count": 1,
   "metadata": {},
   "outputs": [],
   "source": [
    "import pandas as pd\n",
    "import numpy as np\n",
    "heartdis=pd.read_csv('heartdisease.csv')"
   ]
  },
  {
   "cell_type": "code",
   "execution_count": 2,
   "metadata": {
    "scrolled": false
   },
   "outputs": [
    {
     "data": {
      "text/html": [
       "<div>\n",
       "<style scoped>\n",
       "    .dataframe tbody tr th:only-of-type {\n",
       "        vertical-align: middle;\n",
       "    }\n",
       "\n",
       "    .dataframe tbody tr th {\n",
       "        vertical-align: top;\n",
       "    }\n",
       "\n",
       "    .dataframe thead th {\n",
       "        text-align: right;\n",
       "    }\n",
       "</style>\n",
       "<table border=\"1\" class=\"dataframe\">\n",
       "  <thead>\n",
       "    <tr style=\"text-align: right;\">\n",
       "      <th></th>\n",
       "      <th>age</th>\n",
       "      <th>sex</th>\n",
       "      <th>cp</th>\n",
       "      <th>trestbps</th>\n",
       "      <th>chol</th>\n",
       "      <th>fbs</th>\n",
       "      <th>restecg</th>\n",
       "      <th>thalach</th>\n",
       "      <th>exang</th>\n",
       "      <th>oldpeak</th>\n",
       "      <th>slope</th>\n",
       "      <th>ca</th>\n",
       "      <th>thal</th>\n",
       "      <th>predicted</th>\n",
       "    </tr>\n",
       "  </thead>\n",
       "  <tbody>\n",
       "    <tr>\n",
       "      <th>0</th>\n",
       "      <td>63</td>\n",
       "      <td>1</td>\n",
       "      <td>4</td>\n",
       "      <td>140</td>\n",
       "      <td>260</td>\n",
       "      <td>0</td>\n",
       "      <td>1</td>\n",
       "      <td>112</td>\n",
       "      <td>1</td>\n",
       "      <td>3</td>\n",
       "      <td>2</td>\n",
       "      <td>?</td>\n",
       "      <td>?</td>\n",
       "      <td>2</td>\n",
       "    </tr>\n",
       "    <tr>\n",
       "      <th>1</th>\n",
       "      <td>44</td>\n",
       "      <td>1</td>\n",
       "      <td>4</td>\n",
       "      <td>130</td>\n",
       "      <td>209</td>\n",
       "      <td>0</td>\n",
       "      <td>1</td>\n",
       "      <td>127</td>\n",
       "      <td>0</td>\n",
       "      <td>0</td>\n",
       "      <td>?</td>\n",
       "      <td>?</td>\n",
       "      <td>?</td>\n",
       "      <td>0</td>\n",
       "    </tr>\n",
       "    <tr>\n",
       "      <th>2</th>\n",
       "      <td>60</td>\n",
       "      <td>1</td>\n",
       "      <td>4</td>\n",
       "      <td>132</td>\n",
       "      <td>218</td>\n",
       "      <td>0</td>\n",
       "      <td>1</td>\n",
       "      <td>140</td>\n",
       "      <td>1</td>\n",
       "      <td>1.5</td>\n",
       "      <td>3</td>\n",
       "      <td>?</td>\n",
       "      <td>?</td>\n",
       "      <td>2</td>\n",
       "    </tr>\n",
       "    <tr>\n",
       "      <th>3</th>\n",
       "      <td>55</td>\n",
       "      <td>1</td>\n",
       "      <td>4</td>\n",
       "      <td>142</td>\n",
       "      <td>228</td>\n",
       "      <td>0</td>\n",
       "      <td>1</td>\n",
       "      <td>149</td>\n",
       "      <td>1</td>\n",
       "      <td>2.5</td>\n",
       "      <td>1</td>\n",
       "      <td>?</td>\n",
       "      <td>?</td>\n",
       "      <td>1</td>\n",
       "    </tr>\n",
       "    <tr>\n",
       "      <th>4</th>\n",
       "      <td>66</td>\n",
       "      <td>1</td>\n",
       "      <td>3</td>\n",
       "      <td>110</td>\n",
       "      <td>213</td>\n",
       "      <td>1</td>\n",
       "      <td>2</td>\n",
       "      <td>99</td>\n",
       "      <td>1</td>\n",
       "      <td>1.3</td>\n",
       "      <td>2</td>\n",
       "      <td>?</td>\n",
       "      <td>?</td>\n",
       "      <td>0</td>\n",
       "    </tr>\n",
       "    <tr>\n",
       "      <th>...</th>\n",
       "      <td>...</td>\n",
       "      <td>...</td>\n",
       "      <td>...</td>\n",
       "      <td>...</td>\n",
       "      <td>...</td>\n",
       "      <td>...</td>\n",
       "      <td>...</td>\n",
       "      <td>...</td>\n",
       "      <td>...</td>\n",
       "      <td>...</td>\n",
       "      <td>...</td>\n",
       "      <td>...</td>\n",
       "      <td>...</td>\n",
       "      <td>...</td>\n",
       "    </tr>\n",
       "    <tr>\n",
       "      <th>195</th>\n",
       "      <td>54</td>\n",
       "      <td>0</td>\n",
       "      <td>4</td>\n",
       "      <td>127</td>\n",
       "      <td>333</td>\n",
       "      <td>1</td>\n",
       "      <td>1</td>\n",
       "      <td>154</td>\n",
       "      <td>0</td>\n",
       "      <td>0</td>\n",
       "      <td>?</td>\n",
       "      <td>?</td>\n",
       "      <td>?</td>\n",
       "      <td>1</td>\n",
       "    </tr>\n",
       "    <tr>\n",
       "      <th>196</th>\n",
       "      <td>62</td>\n",
       "      <td>1</td>\n",
       "      <td>1</td>\n",
       "      <td>?</td>\n",
       "      <td>139</td>\n",
       "      <td>0</td>\n",
       "      <td>1</td>\n",
       "      <td>?</td>\n",
       "      <td>?</td>\n",
       "      <td>?</td>\n",
       "      <td>?</td>\n",
       "      <td>?</td>\n",
       "      <td>?</td>\n",
       "      <td>0</td>\n",
       "    </tr>\n",
       "    <tr>\n",
       "      <th>197</th>\n",
       "      <td>55</td>\n",
       "      <td>1</td>\n",
       "      <td>4</td>\n",
       "      <td>122</td>\n",
       "      <td>223</td>\n",
       "      <td>1</td>\n",
       "      <td>1</td>\n",
       "      <td>100</td>\n",
       "      <td>0</td>\n",
       "      <td>0</td>\n",
       "      <td>?</td>\n",
       "      <td>?</td>\n",
       "      <td>6</td>\n",
       "      <td>2</td>\n",
       "    </tr>\n",
       "    <tr>\n",
       "      <th>198</th>\n",
       "      <td>58</td>\n",
       "      <td>1</td>\n",
       "      <td>4</td>\n",
       "      <td>?</td>\n",
       "      <td>385</td>\n",
       "      <td>1</td>\n",
       "      <td>2</td>\n",
       "      <td>?</td>\n",
       "      <td>?</td>\n",
       "      <td>?</td>\n",
       "      <td>?</td>\n",
       "      <td>?</td>\n",
       "      <td>?</td>\n",
       "      <td>0</td>\n",
       "    </tr>\n",
       "    <tr>\n",
       "      <th>199</th>\n",
       "      <td>62</td>\n",
       "      <td>1</td>\n",
       "      <td>2</td>\n",
       "      <td>120</td>\n",
       "      <td>254</td>\n",
       "      <td>0</td>\n",
       "      <td>2</td>\n",
       "      <td>93</td>\n",
       "      <td>1</td>\n",
       "      <td>0</td>\n",
       "      <td>?</td>\n",
       "      <td>?</td>\n",
       "      <td>?</td>\n",
       "      <td>1</td>\n",
       "    </tr>\n",
       "  </tbody>\n",
       "</table>\n",
       "<p>200 rows × 14 columns</p>\n",
       "</div>"
      ],
      "text/plain": [
       "     age  sex  cp trestbps chol fbs  restecg thalach exang oldpeak slope ca  \\\n",
       "0     63    1   4      140  260   0        1     112     1       3     2  ?   \n",
       "1     44    1   4      130  209   0        1     127     0       0     ?  ?   \n",
       "2     60    1   4      132  218   0        1     140     1     1.5     3  ?   \n",
       "3     55    1   4      142  228   0        1     149     1     2.5     1  ?   \n",
       "4     66    1   3      110  213   1        2      99     1     1.3     2  ?   \n",
       "..   ...  ...  ..      ...  ...  ..      ...     ...   ...     ...   ... ..   \n",
       "195   54    0   4      127  333   1        1     154     0       0     ?  ?   \n",
       "196   62    1   1        ?  139   0        1       ?     ?       ?     ?  ?   \n",
       "197   55    1   4      122  223   1        1     100     0       0     ?  ?   \n",
       "198   58    1   4        ?  385   1        2       ?     ?       ?     ?  ?   \n",
       "199   62    1   2      120  254   0        2      93     1       0     ?  ?   \n",
       "\n",
       "    thal  predicted  \n",
       "0      ?          2  \n",
       "1      ?          0  \n",
       "2      ?          2  \n",
       "3      ?          1  \n",
       "4      ?          0  \n",
       "..   ...        ...  \n",
       "195    ?          1  \n",
       "196    ?          0  \n",
       "197    6          2  \n",
       "198    ?          0  \n",
       "199    ?          1  \n",
       "\n",
       "[200 rows x 14 columns]"
      ]
     },
     "execution_count": 2,
     "metadata": {},
     "output_type": "execute_result"
    }
   ],
   "source": [
    "heartdis"
   ]
  },
  {
   "cell_type": "markdown",
   "metadata": {},
   "source": [
    "### Observed:"
   ]
  },
  {
   "cell_type": "raw",
   "metadata": {},
   "source": [
    "-> There are so many '?' values we have to replace them.\n",
    "-> Our target variable is predicted\n",
    "-> All are numerical values"
   ]
  },
  {
   "cell_type": "code",
   "execution_count": 3,
   "metadata": {
    "scrolled": true
   },
   "outputs": [
    {
     "data": {
      "text/plain": [
       "age           int64\n",
       "sex           int64\n",
       "cp            int64\n",
       "trestbps     object\n",
       "chol         object\n",
       "fbs          object\n",
       "restecg       int64\n",
       "thalach      object\n",
       "exang        object\n",
       "oldpeak      object\n",
       "slope        object\n",
       "ca           object\n",
       "thal         object\n",
       "predicted     int64\n",
       "dtype: object"
      ]
     },
     "execution_count": 3,
     "metadata": {},
     "output_type": "execute_result"
    }
   ],
   "source": [
    "heartdis.dtypes"
   ]
  },
  {
   "cell_type": "markdown",
   "metadata": {},
   "source": [
    "### Observed:"
   ]
  },
  {
   "cell_type": "raw",
   "metadata": {},
   "source": [
    "-> since all are numerical they should be int or float but object type is showing we have to change them."
   ]
  },
  {
   "cell_type": "code",
   "execution_count": 4,
   "metadata": {},
   "outputs": [],
   "source": [
    "#Replacing '?' with null value\n",
    "heart=heartdis.replace('?',np.nan)"
   ]
  },
  {
   "cell_type": "code",
   "execution_count": 5,
   "metadata": {},
   "outputs": [
    {
     "data": {
      "text/html": [
       "<div>\n",
       "<style scoped>\n",
       "    .dataframe tbody tr th:only-of-type {\n",
       "        vertical-align: middle;\n",
       "    }\n",
       "\n",
       "    .dataframe tbody tr th {\n",
       "        vertical-align: top;\n",
       "    }\n",
       "\n",
       "    .dataframe thead th {\n",
       "        text-align: right;\n",
       "    }\n",
       "</style>\n",
       "<table border=\"1\" class=\"dataframe\">\n",
       "  <thead>\n",
       "    <tr style=\"text-align: right;\">\n",
       "      <th></th>\n",
       "      <th>age</th>\n",
       "      <th>sex</th>\n",
       "      <th>cp</th>\n",
       "      <th>trestbps</th>\n",
       "      <th>chol</th>\n",
       "      <th>fbs</th>\n",
       "      <th>restecg</th>\n",
       "      <th>thalach</th>\n",
       "      <th>exang</th>\n",
       "      <th>oldpeak</th>\n",
       "      <th>slope</th>\n",
       "      <th>ca</th>\n",
       "      <th>thal</th>\n",
       "      <th>predicted</th>\n",
       "    </tr>\n",
       "  </thead>\n",
       "  <tbody>\n",
       "    <tr>\n",
       "      <th>195</th>\n",
       "      <td>54</td>\n",
       "      <td>0</td>\n",
       "      <td>4</td>\n",
       "      <td>127</td>\n",
       "      <td>333</td>\n",
       "      <td>1</td>\n",
       "      <td>1</td>\n",
       "      <td>154</td>\n",
       "      <td>0</td>\n",
       "      <td>0</td>\n",
       "      <td>NaN</td>\n",
       "      <td>NaN</td>\n",
       "      <td>NaN</td>\n",
       "      <td>1</td>\n",
       "    </tr>\n",
       "    <tr>\n",
       "      <th>196</th>\n",
       "      <td>62</td>\n",
       "      <td>1</td>\n",
       "      <td>1</td>\n",
       "      <td>NaN</td>\n",
       "      <td>139</td>\n",
       "      <td>0</td>\n",
       "      <td>1</td>\n",
       "      <td>NaN</td>\n",
       "      <td>NaN</td>\n",
       "      <td>NaN</td>\n",
       "      <td>NaN</td>\n",
       "      <td>NaN</td>\n",
       "      <td>NaN</td>\n",
       "      <td>0</td>\n",
       "    </tr>\n",
       "    <tr>\n",
       "      <th>197</th>\n",
       "      <td>55</td>\n",
       "      <td>1</td>\n",
       "      <td>4</td>\n",
       "      <td>122</td>\n",
       "      <td>223</td>\n",
       "      <td>1</td>\n",
       "      <td>1</td>\n",
       "      <td>100</td>\n",
       "      <td>0</td>\n",
       "      <td>0</td>\n",
       "      <td>NaN</td>\n",
       "      <td>NaN</td>\n",
       "      <td>6</td>\n",
       "      <td>2</td>\n",
       "    </tr>\n",
       "    <tr>\n",
       "      <th>198</th>\n",
       "      <td>58</td>\n",
       "      <td>1</td>\n",
       "      <td>4</td>\n",
       "      <td>NaN</td>\n",
       "      <td>385</td>\n",
       "      <td>1</td>\n",
       "      <td>2</td>\n",
       "      <td>NaN</td>\n",
       "      <td>NaN</td>\n",
       "      <td>NaN</td>\n",
       "      <td>NaN</td>\n",
       "      <td>NaN</td>\n",
       "      <td>NaN</td>\n",
       "      <td>0</td>\n",
       "    </tr>\n",
       "    <tr>\n",
       "      <th>199</th>\n",
       "      <td>62</td>\n",
       "      <td>1</td>\n",
       "      <td>2</td>\n",
       "      <td>120</td>\n",
       "      <td>254</td>\n",
       "      <td>0</td>\n",
       "      <td>2</td>\n",
       "      <td>93</td>\n",
       "      <td>1</td>\n",
       "      <td>0</td>\n",
       "      <td>NaN</td>\n",
       "      <td>NaN</td>\n",
       "      <td>NaN</td>\n",
       "      <td>1</td>\n",
       "    </tr>\n",
       "  </tbody>\n",
       "</table>\n",
       "</div>"
      ],
      "text/plain": [
       "     age  sex  cp trestbps chol fbs  restecg thalach exang oldpeak slope   ca  \\\n",
       "195   54    0   4      127  333   1        1     154     0       0   NaN  NaN   \n",
       "196   62    1   1      NaN  139   0        1     NaN   NaN     NaN   NaN  NaN   \n",
       "197   55    1   4      122  223   1        1     100     0       0   NaN  NaN   \n",
       "198   58    1   4      NaN  385   1        2     NaN   NaN     NaN   NaN  NaN   \n",
       "199   62    1   2      120  254   0        2      93     1       0   NaN  NaN   \n",
       "\n",
       "    thal  predicted  \n",
       "195  NaN          1  \n",
       "196  NaN          0  \n",
       "197    6          2  \n",
       "198  NaN          0  \n",
       "199  NaN          1  "
      ]
     },
     "execution_count": 5,
     "metadata": {},
     "output_type": "execute_result"
    }
   ],
   "source": [
    "heart.tail()"
   ]
  },
  {
   "cell_type": "markdown",
   "metadata": {},
   "source": [
    "### Observed:"
   ]
  },
  {
   "cell_type": "raw",
   "metadata": {},
   "source": [
    "-> All '?' are replaced with NaN values"
   ]
  },
  {
   "cell_type": "code",
   "execution_count": 6,
   "metadata": {},
   "outputs": [],
   "source": [
    "# Let us replace NaN values with most_frequent\n",
    "from sklearn.impute import SimpleImputer\n",
    "imp=SimpleImputer(strategy='most_frequent')\n",
    "list1=['chol','fbs','exang','oldpeak','slope','ca','thal','trestbps','thalach']\n",
    "for val in list1:\n",
    "    heart[val]=imp.fit_transform(heart[val].values.reshape(-1,1))"
   ]
  },
  {
   "cell_type": "code",
   "execution_count": 7,
   "metadata": {
    "scrolled": false
   },
   "outputs": [
    {
     "data": {
      "text/html": [
       "<div>\n",
       "<style scoped>\n",
       "    .dataframe tbody tr th:only-of-type {\n",
       "        vertical-align: middle;\n",
       "    }\n",
       "\n",
       "    .dataframe tbody tr th {\n",
       "        vertical-align: top;\n",
       "    }\n",
       "\n",
       "    .dataframe thead th {\n",
       "        text-align: right;\n",
       "    }\n",
       "</style>\n",
       "<table border=\"1\" class=\"dataframe\">\n",
       "  <thead>\n",
       "    <tr style=\"text-align: right;\">\n",
       "      <th></th>\n",
       "      <th>age</th>\n",
       "      <th>sex</th>\n",
       "      <th>cp</th>\n",
       "      <th>trestbps</th>\n",
       "      <th>chol</th>\n",
       "      <th>fbs</th>\n",
       "      <th>restecg</th>\n",
       "      <th>thalach</th>\n",
       "      <th>exang</th>\n",
       "      <th>oldpeak</th>\n",
       "      <th>slope</th>\n",
       "      <th>ca</th>\n",
       "      <th>thal</th>\n",
       "      <th>predicted</th>\n",
       "    </tr>\n",
       "  </thead>\n",
       "  <tbody>\n",
       "    <tr>\n",
       "      <th>195</th>\n",
       "      <td>54</td>\n",
       "      <td>0</td>\n",
       "      <td>4</td>\n",
       "      <td>127</td>\n",
       "      <td>333</td>\n",
       "      <td>1</td>\n",
       "      <td>1</td>\n",
       "      <td>154</td>\n",
       "      <td>0</td>\n",
       "      <td>0</td>\n",
       "      <td>2</td>\n",
       "      <td>0</td>\n",
       "      <td>7</td>\n",
       "      <td>1</td>\n",
       "    </tr>\n",
       "    <tr>\n",
       "      <th>196</th>\n",
       "      <td>62</td>\n",
       "      <td>1</td>\n",
       "      <td>1</td>\n",
       "      <td>120</td>\n",
       "      <td>139</td>\n",
       "      <td>0</td>\n",
       "      <td>1</td>\n",
       "      <td>120</td>\n",
       "      <td>1</td>\n",
       "      <td>0</td>\n",
       "      <td>2</td>\n",
       "      <td>0</td>\n",
       "      <td>7</td>\n",
       "      <td>0</td>\n",
       "    </tr>\n",
       "    <tr>\n",
       "      <th>197</th>\n",
       "      <td>55</td>\n",
       "      <td>1</td>\n",
       "      <td>4</td>\n",
       "      <td>122</td>\n",
       "      <td>223</td>\n",
       "      <td>1</td>\n",
       "      <td>1</td>\n",
       "      <td>100</td>\n",
       "      <td>0</td>\n",
       "      <td>0</td>\n",
       "      <td>2</td>\n",
       "      <td>0</td>\n",
       "      <td>6</td>\n",
       "      <td>2</td>\n",
       "    </tr>\n",
       "    <tr>\n",
       "      <th>198</th>\n",
       "      <td>58</td>\n",
       "      <td>1</td>\n",
       "      <td>4</td>\n",
       "      <td>120</td>\n",
       "      <td>385</td>\n",
       "      <td>1</td>\n",
       "      <td>2</td>\n",
       "      <td>120</td>\n",
       "      <td>1</td>\n",
       "      <td>0</td>\n",
       "      <td>2</td>\n",
       "      <td>0</td>\n",
       "      <td>7</td>\n",
       "      <td>0</td>\n",
       "    </tr>\n",
       "    <tr>\n",
       "      <th>199</th>\n",
       "      <td>62</td>\n",
       "      <td>1</td>\n",
       "      <td>2</td>\n",
       "      <td>120</td>\n",
       "      <td>254</td>\n",
       "      <td>0</td>\n",
       "      <td>2</td>\n",
       "      <td>93</td>\n",
       "      <td>1</td>\n",
       "      <td>0</td>\n",
       "      <td>2</td>\n",
       "      <td>0</td>\n",
       "      <td>7</td>\n",
       "      <td>1</td>\n",
       "    </tr>\n",
       "  </tbody>\n",
       "</table>\n",
       "</div>"
      ],
      "text/plain": [
       "     age  sex  cp trestbps chol fbs  restecg thalach exang oldpeak slope ca  \\\n",
       "195   54    0   4      127  333   1        1     154     0       0     2  0   \n",
       "196   62    1   1      120  139   0        1     120     1       0     2  0   \n",
       "197   55    1   4      122  223   1        1     100     0       0     2  0   \n",
       "198   58    1   4      120  385   1        2     120     1       0     2  0   \n",
       "199   62    1   2      120  254   0        2      93     1       0     2  0   \n",
       "\n",
       "    thal  predicted  \n",
       "195    7          1  \n",
       "196    7          0  \n",
       "197    6          2  \n",
       "198    7          0  \n",
       "199    7          1  "
      ]
     },
     "execution_count": 7,
     "metadata": {},
     "output_type": "execute_result"
    }
   ],
   "source": [
    "heart.tail()"
   ]
  },
  {
   "cell_type": "code",
   "execution_count": 8,
   "metadata": {},
   "outputs": [
    {
     "data": {
      "text/plain": [
       "age           int64\n",
       "sex           int64\n",
       "cp            int64\n",
       "trestbps     object\n",
       "chol         object\n",
       "fbs          object\n",
       "restecg       int64\n",
       "thalach      object\n",
       "exang        object\n",
       "oldpeak      object\n",
       "slope        object\n",
       "ca           object\n",
       "thal         object\n",
       "predicted     int64\n",
       "dtype: object"
      ]
     },
     "execution_count": 8,
     "metadata": {},
     "output_type": "execute_result"
    }
   ],
   "source": [
    "heart.dtypes"
   ]
  },
  {
   "cell_type": "code",
   "execution_count": 9,
   "metadata": {},
   "outputs": [],
   "source": [
    "# let us convert object type to float type\n",
    "from sklearn.preprocessing import LabelEncoder\n",
    "le=LabelEncoder()\n",
    "list1=['trestbps','chol','fbs','thalach','exang','oldpeak','slope','ca','thal']\n",
    "for val in list1:\n",
    "    heart[val]=le.fit_transform(heart[val].astype(float))"
   ]
  },
  {
   "cell_type": "code",
   "execution_count": 10,
   "metadata": {
    "scrolled": false
   },
   "outputs": [
    {
     "data": {
      "text/html": [
       "<div>\n",
       "<style scoped>\n",
       "    .dataframe tbody tr th:only-of-type {\n",
       "        vertical-align: middle;\n",
       "    }\n",
       "\n",
       "    .dataframe tbody tr th {\n",
       "        vertical-align: top;\n",
       "    }\n",
       "\n",
       "    .dataframe thead th {\n",
       "        text-align: right;\n",
       "    }\n",
       "</style>\n",
       "<table border=\"1\" class=\"dataframe\">\n",
       "  <thead>\n",
       "    <tr style=\"text-align: right;\">\n",
       "      <th></th>\n",
       "      <th>age</th>\n",
       "      <th>sex</th>\n",
       "      <th>cp</th>\n",
       "      <th>trestbps</th>\n",
       "      <th>chol</th>\n",
       "      <th>fbs</th>\n",
       "      <th>restecg</th>\n",
       "      <th>thalach</th>\n",
       "      <th>exang</th>\n",
       "      <th>oldpeak</th>\n",
       "      <th>slope</th>\n",
       "      <th>ca</th>\n",
       "      <th>thal</th>\n",
       "      <th>predicted</th>\n",
       "    </tr>\n",
       "  </thead>\n",
       "  <tbody>\n",
       "    <tr>\n",
       "      <th>195</th>\n",
       "      <td>54</td>\n",
       "      <td>0</td>\n",
       "      <td>4</td>\n",
       "      <td>16</td>\n",
       "      <td>91</td>\n",
       "      <td>1</td>\n",
       "      <td>1</td>\n",
       "      <td>50</td>\n",
       "      <td>0</td>\n",
       "      <td>1</td>\n",
       "      <td>1</td>\n",
       "      <td>0</td>\n",
       "      <td>2</td>\n",
       "      <td>1</td>\n",
       "    </tr>\n",
       "    <tr>\n",
       "      <th>196</th>\n",
       "      <td>62</td>\n",
       "      <td>1</td>\n",
       "      <td>1</td>\n",
       "      <td>11</td>\n",
       "      <td>2</td>\n",
       "      <td>0</td>\n",
       "      <td>1</td>\n",
       "      <td>26</td>\n",
       "      <td>1</td>\n",
       "      <td>1</td>\n",
       "      <td>1</td>\n",
       "      <td>0</td>\n",
       "      <td>2</td>\n",
       "      <td>0</td>\n",
       "    </tr>\n",
       "    <tr>\n",
       "      <th>197</th>\n",
       "      <td>55</td>\n",
       "      <td>1</td>\n",
       "      <td>4</td>\n",
       "      <td>12</td>\n",
       "      <td>40</td>\n",
       "      <td>1</td>\n",
       "      <td>1</td>\n",
       "      <td>12</td>\n",
       "      <td>0</td>\n",
       "      <td>1</td>\n",
       "      <td>1</td>\n",
       "      <td>0</td>\n",
       "      <td>1</td>\n",
       "      <td>2</td>\n",
       "    </tr>\n",
       "    <tr>\n",
       "      <th>198</th>\n",
       "      <td>58</td>\n",
       "      <td>1</td>\n",
       "      <td>4</td>\n",
       "      <td>11</td>\n",
       "      <td>97</td>\n",
       "      <td>1</td>\n",
       "      <td>2</td>\n",
       "      <td>26</td>\n",
       "      <td>1</td>\n",
       "      <td>1</td>\n",
       "      <td>1</td>\n",
       "      <td>0</td>\n",
       "      <td>2</td>\n",
       "      <td>0</td>\n",
       "    </tr>\n",
       "    <tr>\n",
       "      <th>199</th>\n",
       "      <td>62</td>\n",
       "      <td>1</td>\n",
       "      <td>2</td>\n",
       "      <td>11</td>\n",
       "      <td>59</td>\n",
       "      <td>0</td>\n",
       "      <td>2</td>\n",
       "      <td>6</td>\n",
       "      <td>1</td>\n",
       "      <td>1</td>\n",
       "      <td>1</td>\n",
       "      <td>0</td>\n",
       "      <td>2</td>\n",
       "      <td>1</td>\n",
       "    </tr>\n",
       "  </tbody>\n",
       "</table>\n",
       "</div>"
      ],
      "text/plain": [
       "     age  sex  cp  trestbps  chol  fbs  restecg  thalach  exang  oldpeak  \\\n",
       "195   54    0   4        16    91    1        1       50      0        1   \n",
       "196   62    1   1        11     2    0        1       26      1        1   \n",
       "197   55    1   4        12    40    1        1       12      0        1   \n",
       "198   58    1   4        11    97    1        2       26      1        1   \n",
       "199   62    1   2        11    59    0        2        6      1        1   \n",
       "\n",
       "     slope  ca  thal  predicted  \n",
       "195      1   0     2          1  \n",
       "196      1   0     2          0  \n",
       "197      1   0     1          2  \n",
       "198      1   0     2          0  \n",
       "199      1   0     2          1  "
      ]
     },
     "execution_count": 10,
     "metadata": {},
     "output_type": "execute_result"
    }
   ],
   "source": [
    "heart.tail()"
   ]
  },
  {
   "cell_type": "code",
   "execution_count": 11,
   "metadata": {},
   "outputs": [
    {
     "data": {
      "text/plain": [
       "age          int64\n",
       "sex          int64\n",
       "cp           int64\n",
       "trestbps     int64\n",
       "chol         int64\n",
       "fbs          int64\n",
       "restecg      int64\n",
       "thalach      int64\n",
       "exang        int64\n",
       "oldpeak      int64\n",
       "slope        int64\n",
       "ca           int64\n",
       "thal         int64\n",
       "predicted    int64\n",
       "dtype: object"
      ]
     },
     "execution_count": 11,
     "metadata": {},
     "output_type": "execute_result"
    }
   ],
   "source": [
    "heart.dtypes"
   ]
  },
  {
   "cell_type": "code",
   "execution_count": 12,
   "metadata": {},
   "outputs": [
    {
     "data": {
      "text/html": [
       "<div>\n",
       "<style scoped>\n",
       "    .dataframe tbody tr th:only-of-type {\n",
       "        vertical-align: middle;\n",
       "    }\n",
       "\n",
       "    .dataframe tbody tr th {\n",
       "        vertical-align: top;\n",
       "    }\n",
       "\n",
       "    .dataframe thead th {\n",
       "        text-align: right;\n",
       "    }\n",
       "</style>\n",
       "<table border=\"1\" class=\"dataframe\">\n",
       "  <thead>\n",
       "    <tr style=\"text-align: right;\">\n",
       "      <th></th>\n",
       "      <th>age</th>\n",
       "      <th>sex</th>\n",
       "      <th>cp</th>\n",
       "      <th>trestbps</th>\n",
       "      <th>chol</th>\n",
       "      <th>fbs</th>\n",
       "      <th>restecg</th>\n",
       "      <th>thalach</th>\n",
       "      <th>exang</th>\n",
       "      <th>oldpeak</th>\n",
       "      <th>slope</th>\n",
       "      <th>ca</th>\n",
       "      <th>thal</th>\n",
       "      <th>predicted</th>\n",
       "    </tr>\n",
       "  </thead>\n",
       "  <tbody>\n",
       "    <tr>\n",
       "      <th>count</th>\n",
       "      <td>200.000000</td>\n",
       "      <td>200.000000</td>\n",
       "      <td>200.000000</td>\n",
       "      <td>200.000000</td>\n",
       "      <td>200.000000</td>\n",
       "      <td>200.000000</td>\n",
       "      <td>200.000000</td>\n",
       "      <td>200.000000</td>\n",
       "      <td>200.000000</td>\n",
       "      <td>200.000000</td>\n",
       "      <td>200.000000</td>\n",
       "      <td>200.0</td>\n",
       "      <td>200.000000</td>\n",
       "      <td>200.000000</td>\n",
       "    </tr>\n",
       "    <tr>\n",
       "      <th>mean</th>\n",
       "      <td>59.350000</td>\n",
       "      <td>0.970000</td>\n",
       "      <td>3.505000</td>\n",
       "      <td>17.160000</td>\n",
       "      <td>34.190000</td>\n",
       "      <td>0.340000</td>\n",
       "      <td>0.735000</td>\n",
       "      <td>27.895000</td>\n",
       "      <td>0.740000</td>\n",
       "      <td>4.290000</td>\n",
       "      <td>1.065000</td>\n",
       "      <td>0.0</td>\n",
       "      <td>1.920000</td>\n",
       "      <td>1.520000</td>\n",
       "    </tr>\n",
       "    <tr>\n",
       "      <th>std</th>\n",
       "      <td>7.811697</td>\n",
       "      <td>0.171015</td>\n",
       "      <td>0.795701</td>\n",
       "      <td>9.008896</td>\n",
       "      <td>30.734131</td>\n",
       "      <td>0.474898</td>\n",
       "      <td>0.683455</td>\n",
       "      <td>13.081268</td>\n",
       "      <td>0.439735</td>\n",
       "      <td>3.867907</td>\n",
       "      <td>0.471046</td>\n",
       "      <td>0.0</td>\n",
       "      <td>0.337892</td>\n",
       "      <td>1.219441</td>\n",
       "    </tr>\n",
       "    <tr>\n",
       "      <th>min</th>\n",
       "      <td>35.000000</td>\n",
       "      <td>0.000000</td>\n",
       "      <td>1.000000</td>\n",
       "      <td>0.000000</td>\n",
       "      <td>0.000000</td>\n",
       "      <td>0.000000</td>\n",
       "      <td>0.000000</td>\n",
       "      <td>0.000000</td>\n",
       "      <td>0.000000</td>\n",
       "      <td>0.000000</td>\n",
       "      <td>0.000000</td>\n",
       "      <td>0.0</td>\n",
       "      <td>0.000000</td>\n",
       "      <td>0.000000</td>\n",
       "    </tr>\n",
       "    <tr>\n",
       "      <th>25%</th>\n",
       "      <td>55.000000</td>\n",
       "      <td>1.000000</td>\n",
       "      <td>3.000000</td>\n",
       "      <td>11.000000</td>\n",
       "      <td>0.000000</td>\n",
       "      <td>0.000000</td>\n",
       "      <td>0.000000</td>\n",
       "      <td>20.000000</td>\n",
       "      <td>0.000000</td>\n",
       "      <td>1.000000</td>\n",
       "      <td>1.000000</td>\n",
       "      <td>0.0</td>\n",
       "      <td>2.000000</td>\n",
       "      <td>0.000000</td>\n",
       "    </tr>\n",
       "    <tr>\n",
       "      <th>50%</th>\n",
       "      <td>60.000000</td>\n",
       "      <td>1.000000</td>\n",
       "      <td>4.000000</td>\n",
       "      <td>12.500000</td>\n",
       "      <td>32.000000</td>\n",
       "      <td>0.000000</td>\n",
       "      <td>1.000000</td>\n",
       "      <td>26.000000</td>\n",
       "      <td>1.000000</td>\n",
       "      <td>2.000000</td>\n",
       "      <td>1.000000</td>\n",
       "      <td>0.0</td>\n",
       "      <td>2.000000</td>\n",
       "      <td>1.000000</td>\n",
       "    </tr>\n",
       "    <tr>\n",
       "      <th>75%</th>\n",
       "      <td>64.000000</td>\n",
       "      <td>1.000000</td>\n",
       "      <td>4.000000</td>\n",
       "      <td>24.000000</td>\n",
       "      <td>59.250000</td>\n",
       "      <td>1.000000</td>\n",
       "      <td>1.000000</td>\n",
       "      <td>36.000000</td>\n",
       "      <td>1.000000</td>\n",
       "      <td>9.000000</td>\n",
       "      <td>1.000000</td>\n",
       "      <td>0.0</td>\n",
       "      <td>2.000000</td>\n",
       "      <td>3.000000</td>\n",
       "    </tr>\n",
       "    <tr>\n",
       "      <th>max</th>\n",
       "      <td>77.000000</td>\n",
       "      <td>1.000000</td>\n",
       "      <td>4.000000</td>\n",
       "      <td>39.000000</td>\n",
       "      <td>98.000000</td>\n",
       "      <td>1.000000</td>\n",
       "      <td>2.000000</td>\n",
       "      <td>58.000000</td>\n",
       "      <td>1.000000</td>\n",
       "      <td>13.000000</td>\n",
       "      <td>2.000000</td>\n",
       "      <td>0.0</td>\n",
       "      <td>2.000000</td>\n",
       "      <td>4.000000</td>\n",
       "    </tr>\n",
       "  </tbody>\n",
       "</table>\n",
       "</div>"
      ],
      "text/plain": [
       "              age         sex          cp    trestbps        chol         fbs  \\\n",
       "count  200.000000  200.000000  200.000000  200.000000  200.000000  200.000000   \n",
       "mean    59.350000    0.970000    3.505000   17.160000   34.190000    0.340000   \n",
       "std      7.811697    0.171015    0.795701    9.008896   30.734131    0.474898   \n",
       "min     35.000000    0.000000    1.000000    0.000000    0.000000    0.000000   \n",
       "25%     55.000000    1.000000    3.000000   11.000000    0.000000    0.000000   \n",
       "50%     60.000000    1.000000    4.000000   12.500000   32.000000    0.000000   \n",
       "75%     64.000000    1.000000    4.000000   24.000000   59.250000    1.000000   \n",
       "max     77.000000    1.000000    4.000000   39.000000   98.000000    1.000000   \n",
       "\n",
       "          restecg     thalach       exang     oldpeak       slope     ca  \\\n",
       "count  200.000000  200.000000  200.000000  200.000000  200.000000  200.0   \n",
       "mean     0.735000   27.895000    0.740000    4.290000    1.065000    0.0   \n",
       "std      0.683455   13.081268    0.439735    3.867907    0.471046    0.0   \n",
       "min      0.000000    0.000000    0.000000    0.000000    0.000000    0.0   \n",
       "25%      0.000000   20.000000    0.000000    1.000000    1.000000    0.0   \n",
       "50%      1.000000   26.000000    1.000000    2.000000    1.000000    0.0   \n",
       "75%      1.000000   36.000000    1.000000    9.000000    1.000000    0.0   \n",
       "max      2.000000   58.000000    1.000000   13.000000    2.000000    0.0   \n",
       "\n",
       "             thal   predicted  \n",
       "count  200.000000  200.000000  \n",
       "mean     1.920000    1.520000  \n",
       "std      0.337892    1.219441  \n",
       "min      0.000000    0.000000  \n",
       "25%      2.000000    0.000000  \n",
       "50%      2.000000    1.000000  \n",
       "75%      2.000000    3.000000  \n",
       "max      2.000000    4.000000  "
      ]
     },
     "execution_count": 12,
     "metadata": {},
     "output_type": "execute_result"
    }
   ],
   "source": [
    "heart.describe()"
   ]
  },
  {
   "cell_type": "markdown",
   "metadata": {},
   "source": [
    "### Observed:"
   ]
  },
  {
   "cell_type": "raw",
   "metadata": {},
   "source": [
    "-> There is a huge difference between mean and std in columns like age,trestbps,fbs,thalach,exang,ca\n",
    "-> There is some difference between 75% and MAX value trestbps,chol,thalach,oldpeak\n",
    "-> This means there are outLiers\n",
    "-> In ca column all values as 0 let us check there unique values"
   ]
  },
  {
   "cell_type": "code",
   "execution_count": 13,
   "metadata": {
    "scrolled": false
   },
   "outputs": [
    {
     "data": {
      "text/plain": [
       "array([0], dtype=int64)"
      ]
     },
     "execution_count": 13,
     "metadata": {},
     "output_type": "execute_result"
    }
   ],
   "source": [
    "heart.ca.unique()"
   ]
  },
  {
   "cell_type": "markdown",
   "metadata": {},
   "source": [
    "### Observed:"
   ]
  },
  {
   "cell_type": "raw",
   "metadata": {},
   "source": [
    "-> Snice there is only one value we can drop that column."
   ]
  },
  {
   "cell_type": "code",
   "execution_count": 14,
   "metadata": {},
   "outputs": [],
   "source": [
    "heart=heart.drop(['ca'],axis=1)"
   ]
  },
  {
   "cell_type": "code",
   "execution_count": 15,
   "metadata": {},
   "outputs": [
    {
     "name": "stdout",
     "output_type": "stream",
     "text": [
      "age: Number of unique values 39\n",
      "------------------------------------------------------------\n",
      "sex: Number of unique values 2\n",
      "------------------------------------------------------------\n",
      "cp: Number of unique values 4\n",
      "------------------------------------------------------------\n",
      "trestbps: Number of unique values 40\n",
      "------------------------------------------------------------\n",
      "chol: Number of unique values 99\n",
      "------------------------------------------------------------\n",
      "fbs: Number of unique values 2\n",
      "------------------------------------------------------------\n",
      "restecg: Number of unique values 3\n",
      "------------------------------------------------------------\n",
      "thalach: Number of unique values 59\n",
      "------------------------------------------------------------\n",
      "exang: Number of unique values 2\n",
      "------------------------------------------------------------\n",
      "oldpeak: Number of unique values 14\n",
      "------------------------------------------------------------\n",
      "slope: Number of unique values 3\n",
      "------------------------------------------------------------\n",
      "thal: Number of unique values 3\n",
      "------------------------------------------------------------\n",
      "predicted: Number of unique values 5\n",
      "------------------------------------------------------------\n"
     ]
    }
   ],
   "source": [
    "for column in heart.columns:\n",
    "    print(f\"{column}: Number of unique values {heart[column].nunique()}\")\n",
    "    print('------------------------------------------------------------')"
   ]
  },
  {
   "cell_type": "code",
   "execution_count": 16,
   "metadata": {
    "scrolled": true
   },
   "outputs": [
    {
     "data": {
      "text/plain": [
       "array([2, 0, 1, 3, 4], dtype=int64)"
      ]
     },
     "execution_count": 16,
     "metadata": {},
     "output_type": "execute_result"
    }
   ],
   "source": [
    "heart.predicted.unique()"
   ]
  },
  {
   "cell_type": "markdown",
   "metadata": {},
   "source": [
    "#### Observed:"
   ]
  },
  {
   "cell_type": "raw",
   "metadata": {},
   "source": [
    "-> There are in 5 unique values in predicted inculding 0 so it is a classification problem"
   ]
  },
  {
   "cell_type": "markdown",
   "metadata": {},
   "source": [
    "## Checking for missing values"
   ]
  },
  {
   "cell_type": "code",
   "execution_count": 17,
   "metadata": {
    "scrolled": true
   },
   "outputs": [
    {
     "data": {
      "image/png": "[encoded data removed]",
      "text/plain": [
       "<Figure size 432x288 with 2 Axes>"
      ]
     },
     "metadata": {
      "needs_background": "light"
     },
     "output_type": "display_data"
    }
   ],
   "source": [
    "#using heatmap to check null values\n",
    "import seaborn as sns\n",
    "import matplotlib.pyplot as plt\n",
    "sns.heatmap(heart.isnull())\n",
    "plt.show()"
   ]
  },
  {
   "cell_type": "markdown",
   "metadata": {},
   "source": [
    "#### Observed:"
   ]
  },
  {
   "cell_type": "raw",
   "metadata": {},
   "source": [
    "->  We can observe that There are no null values from heatmap"
   ]
  },
  {
   "cell_type": "markdown",
   "metadata": {},
   "source": [
    "## To Check the correlation"
   ]
  },
  {
   "cell_type": "code",
   "execution_count": 18,
   "metadata": {},
   "outputs": [
    {
     "data": {
      "text/html": [
       "<div>\n",
       "<style scoped>\n",
       "    .dataframe tbody tr th:only-of-type {\n",
       "        vertical-align: middle;\n",
       "    }\n",
       "\n",
       "    .dataframe tbody tr th {\n",
       "        vertical-align: top;\n",
       "    }\n",
       "\n",
       "    .dataframe thead th {\n",
       "        text-align: right;\n",
       "    }\n",
       "</style>\n",
       "<table border=\"1\" class=\"dataframe\">\n",
       "  <thead>\n",
       "    <tr style=\"text-align: right;\">\n",
       "      <th></th>\n",
       "      <th>age</th>\n",
       "      <th>sex</th>\n",
       "      <th>cp</th>\n",
       "      <th>trestbps</th>\n",
       "      <th>chol</th>\n",
       "      <th>fbs</th>\n",
       "      <th>restecg</th>\n",
       "      <th>thalach</th>\n",
       "      <th>exang</th>\n",
       "      <th>oldpeak</th>\n",
       "      <th>slope</th>\n",
       "      <th>thal</th>\n",
       "      <th>predicted</th>\n",
       "    </tr>\n",
       "  </thead>\n",
       "  <tbody>\n",
       "    <tr>\n",
       "      <th>age</th>\n",
       "      <td>1.000000</td>\n",
       "      <td>0.034230</td>\n",
       "      <td>-0.038280</td>\n",
       "      <td>0.176142</td>\n",
       "      <td>0.049327</td>\n",
       "      <td>0.135728</td>\n",
       "      <td>0.002400</td>\n",
       "      <td>-0.139150</td>\n",
       "      <td>0.129027</td>\n",
       "      <td>0.127013</td>\n",
       "      <td>0.107135</td>\n",
       "      <td>0.092525</td>\n",
       "      <td>0.287289</td>\n",
       "    </tr>\n",
       "    <tr>\n",
       "      <th>sex</th>\n",
       "      <td>0.034230</td>\n",
       "      <td>1.000000</td>\n",
       "      <td>0.038036</td>\n",
       "      <td>-0.013177</td>\n",
       "      <td>-0.162399</td>\n",
       "      <td>-0.059400</td>\n",
       "      <td>0.060621</td>\n",
       "      <td>0.003077</td>\n",
       "      <td>0.029402</td>\n",
       "      <td>0.066397</td>\n",
       "      <td>0.086709</td>\n",
       "      <td>-0.041742</td>\n",
       "      <td>0.147470</td>\n",
       "    </tr>\n",
       "    <tr>\n",
       "      <th>cp</th>\n",
       "      <td>-0.038280</td>\n",
       "      <td>0.038036</td>\n",
       "      <td>1.000000</td>\n",
       "      <td>0.156914</td>\n",
       "      <td>0.078455</td>\n",
       "      <td>-0.044416</td>\n",
       "      <td>0.034790</td>\n",
       "      <td>-0.088056</td>\n",
       "      <td>0.089904</td>\n",
       "      <td>0.182395</td>\n",
       "      <td>0.059460</td>\n",
       "      <td>-0.017195</td>\n",
       "      <td>0.168210</td>\n",
       "    </tr>\n",
       "    <tr>\n",
       "      <th>trestbps</th>\n",
       "      <td>0.176142</td>\n",
       "      <td>-0.013177</td>\n",
       "      <td>0.156914</td>\n",
       "      <td>1.000000</td>\n",
       "      <td>0.086896</td>\n",
       "      <td>0.150485</td>\n",
       "      <td>0.030589</td>\n",
       "      <td>0.110412</td>\n",
       "      <td>0.039729</td>\n",
       "      <td>0.323426</td>\n",
       "      <td>0.095823</td>\n",
       "      <td>0.002575</td>\n",
       "      <td>0.203716</td>\n",
       "    </tr>\n",
       "    <tr>\n",
       "      <th>chol</th>\n",
       "      <td>0.049327</td>\n",
       "      <td>-0.162399</td>\n",
       "      <td>0.078455</td>\n",
       "      <td>0.086896</td>\n",
       "      <td>1.000000</td>\n",
       "      <td>0.146351</td>\n",
       "      <td>-0.024385</td>\n",
       "      <td>-0.009424</td>\n",
       "      <td>0.124144</td>\n",
       "      <td>-0.027097</td>\n",
       "      <td>0.037671</td>\n",
       "      <td>-0.059983</td>\n",
       "      <td>0.114671</td>\n",
       "    </tr>\n",
       "    <tr>\n",
       "      <th>fbs</th>\n",
       "      <td>0.135728</td>\n",
       "      <td>-0.059400</td>\n",
       "      <td>-0.044416</td>\n",
       "      <td>0.150485</td>\n",
       "      <td>0.146351</td>\n",
       "      <td>1.000000</td>\n",
       "      <td>0.170616</td>\n",
       "      <td>0.028425</td>\n",
       "      <td>-0.176144</td>\n",
       "      <td>-0.141491</td>\n",
       "      <td>-0.009435</td>\n",
       "      <td>-0.080170</td>\n",
       "      <td>0.048940</td>\n",
       "    </tr>\n",
       "    <tr>\n",
       "      <th>restecg</th>\n",
       "      <td>0.002400</td>\n",
       "      <td>0.060621</td>\n",
       "      <td>0.034790</td>\n",
       "      <td>0.030589</td>\n",
       "      <td>-0.024385</td>\n",
       "      <td>0.170616</td>\n",
       "      <td>1.000000</td>\n",
       "      <td>-0.000880</td>\n",
       "      <td>-0.063203</td>\n",
       "      <td>-0.126657</td>\n",
       "      <td>-0.039881</td>\n",
       "      <td>-0.005222</td>\n",
       "      <td>-0.032800</td>\n",
       "    </tr>\n",
       "    <tr>\n",
       "      <th>thalach</th>\n",
       "      <td>-0.139150</td>\n",
       "      <td>0.003077</td>\n",
       "      <td>-0.088056</td>\n",
       "      <td>0.110412</td>\n",
       "      <td>-0.009424</td>\n",
       "      <td>0.028425</td>\n",
       "      <td>-0.000880</td>\n",
       "      <td>1.000000</td>\n",
       "      <td>-0.093002</td>\n",
       "      <td>0.157128</td>\n",
       "      <td>-0.084516</td>\n",
       "      <td>-0.223604</td>\n",
       "      <td>-0.062714</td>\n",
       "    </tr>\n",
       "    <tr>\n",
       "      <th>exang</th>\n",
       "      <td>0.129027</td>\n",
       "      <td>0.029402</td>\n",
       "      <td>0.089904</td>\n",
       "      <td>0.039729</td>\n",
       "      <td>0.124144</td>\n",
       "      <td>-0.176144</td>\n",
       "      <td>-0.063203</td>\n",
       "      <td>-0.093002</td>\n",
       "      <td>1.000000</td>\n",
       "      <td>0.085916</td>\n",
       "      <td>0.106259</td>\n",
       "      <td>0.197511</td>\n",
       "      <td>0.206541</td>\n",
       "    </tr>\n",
       "    <tr>\n",
       "      <th>oldpeak</th>\n",
       "      <td>0.127013</td>\n",
       "      <td>0.066397</td>\n",
       "      <td>0.182395</td>\n",
       "      <td>0.323426</td>\n",
       "      <td>-0.027097</td>\n",
       "      <td>-0.141491</td>\n",
       "      <td>-0.126657</td>\n",
       "      <td>0.157128</td>\n",
       "      <td>0.085916</td>\n",
       "      <td>1.000000</td>\n",
       "      <td>0.276443</td>\n",
       "      <td>0.083205</td>\n",
       "      <td>0.373783</td>\n",
       "    </tr>\n",
       "    <tr>\n",
       "      <th>slope</th>\n",
       "      <td>0.107135</td>\n",
       "      <td>0.086709</td>\n",
       "      <td>0.059460</td>\n",
       "      <td>0.095823</td>\n",
       "      <td>0.037671</td>\n",
       "      <td>-0.009435</td>\n",
       "      <td>-0.039881</td>\n",
       "      <td>-0.084516</td>\n",
       "      <td>0.106259</td>\n",
       "      <td>0.276443</td>\n",
       "      <td>1.000000</td>\n",
       "      <td>0.001263</td>\n",
       "      <td>0.142072</td>\n",
       "    </tr>\n",
       "    <tr>\n",
       "      <th>thal</th>\n",
       "      <td>0.092525</td>\n",
       "      <td>-0.041742</td>\n",
       "      <td>-0.017195</td>\n",
       "      <td>0.002575</td>\n",
       "      <td>-0.059983</td>\n",
       "      <td>-0.080170</td>\n",
       "      <td>-0.005222</td>\n",
       "      <td>-0.223604</td>\n",
       "      <td>0.197511</td>\n",
       "      <td>0.083205</td>\n",
       "      <td>0.001263</td>\n",
       "      <td>1.000000</td>\n",
       "      <td>0.064881</td>\n",
       "    </tr>\n",
       "    <tr>\n",
       "      <th>predicted</th>\n",
       "      <td>0.287289</td>\n",
       "      <td>0.147470</td>\n",
       "      <td>0.168210</td>\n",
       "      <td>0.203716</td>\n",
       "      <td>0.114671</td>\n",
       "      <td>0.048940</td>\n",
       "      <td>-0.032800</td>\n",
       "      <td>-0.062714</td>\n",
       "      <td>0.206541</td>\n",
       "      <td>0.373783</td>\n",
       "      <td>0.142072</td>\n",
       "      <td>0.064881</td>\n",
       "      <td>1.000000</td>\n",
       "    </tr>\n",
       "  </tbody>\n",
       "</table>\n",
       "</div>"
      ],
      "text/plain": [
       "                age       sex        cp  trestbps      chol       fbs  \\\n",
       "age        1.000000  0.034230 -0.038280  0.176142  0.049327  0.135728   \n",
       "sex        0.034230  1.000000  0.038036 -0.013177 -0.162399 -0.059400   \n",
       "cp        -0.038280  0.038036  1.000000  0.156914  0.078455 -0.044416   \n",
       "trestbps   0.176142 -0.013177  0.156914  1.000000  0.086896  0.150485   \n",
       "chol       0.049327 -0.162399  0.078455  0.086896  1.000000  0.146351   \n",
       "fbs        0.135728 -0.059400 -0.044416  0.150485  0.146351  1.000000   \n",
       "restecg    0.002400  0.060621  0.034790  0.030589 -0.024385  0.170616   \n",
       "thalach   -0.139150  0.003077 -0.088056  0.110412 -0.009424  0.028425   \n",
       "exang      0.129027  0.029402  0.089904  0.039729  0.124144 -0.176144   \n",
       "oldpeak    0.127013  0.066397  0.182395  0.323426 -0.027097 -0.141491   \n",
       "slope      0.107135  0.086709  0.059460  0.095823  0.037671 -0.009435   \n",
       "thal       0.092525 -0.041742 -0.017195  0.002575 -0.059983 -0.080170   \n",
       "predicted  0.287289  0.147470  0.168210  0.203716  0.114671  0.048940   \n",
       "\n",
       "            restecg   thalach     exang   oldpeak     slope      thal  \\\n",
       "age        0.002400 -0.139150  0.129027  0.127013  0.107135  0.092525   \n",
       "sex        0.060621  0.003077  0.029402  0.066397  0.086709 -0.041742   \n",
       "cp         0.034790 -0.088056  0.089904  0.182395  0.059460 -0.017195   \n",
       "trestbps   0.030589  0.110412  0.039729  0.323426  0.095823  0.002575   \n",
       "chol      -0.024385 -0.009424  0.124144 -0.027097  0.037671 -0.059983   \n",
       "fbs        0.170616  0.028425 -0.176144 -0.141491 -0.009435 -0.080170   \n",
       "restecg    1.000000 -0.000880 -0.063203 -0.126657 -0.039881 -0.005222   \n",
       "thalach   -0.000880  1.000000 -0.093002  0.157128 -0.084516 -0.223604   \n",
       "exang     -0.063203 -0.093002  1.000000  0.085916  0.106259  0.197511   \n",
       "oldpeak   -0.126657  0.157128  0.085916  1.000000  0.276443  0.083205   \n",
       "slope     -0.039881 -0.084516  0.106259  0.276443  1.000000  0.001263   \n",
       "thal      -0.005222 -0.223604  0.197511  0.083205  0.001263  1.000000   \n",
       "predicted -0.032800 -0.062714  0.206541  0.373783  0.142072  0.064881   \n",
       "\n",
       "           predicted  \n",
       "age         0.287289  \n",
       "sex         0.147470  \n",
       "cp          0.168210  \n",
       "trestbps    0.203716  \n",
       "chol        0.114671  \n",
       "fbs         0.048940  \n",
       "restecg    -0.032800  \n",
       "thalach    -0.062714  \n",
       "exang       0.206541  \n",
       "oldpeak     0.373783  \n",
       "slope       0.142072  \n",
       "thal        0.064881  \n",
       "predicted   1.000000  "
      ]
     },
     "execution_count": 18,
     "metadata": {},
     "output_type": "execute_result"
    }
   ],
   "source": [
    "heart1=heart.corr()\n",
    "heart1"
   ]
  },
  {
   "cell_type": "code",
   "execution_count": 19,
   "metadata": {},
   "outputs": [
    {
     "data": {
      "text/plain": [
       "<matplotlib.axes._subplots.AxesSubplot at 0x1d4be9b7c48>"
      ]
     },
     "execution_count": 19,
     "metadata": {},
     "output_type": "execute_result"
    },
    {
     "data": {
      "image/png": "[encoded data removed]",
      "text/plain": [
       "<Figure size 1440x1440 with 2 Axes>"
      ]
     },
     "metadata": {
      "needs_background": "light"
     },
     "output_type": "display_data"
    }
   ],
   "source": [
    "plt.figure(figsize=(20,20))\n",
    "sns.heatmap(heart1,annot=True,cmap='winter')"
   ]
  },
  {
   "cell_type": "markdown",
   "metadata": {},
   "source": [
    "### Observed:"
   ]
  },
  {
   "cell_type": "raw",
   "metadata": {},
   "source": [
    "-> Data is Slightly correlated.\n",
    "-> thalach,thal,restecg is highly correlated to predicted .Hence drop thalach"
   ]
  },
  {
   "cell_type": "code",
   "execution_count": 20,
   "metadata": {},
   "outputs": [],
   "source": [
    "heart=heart.drop(['thalach','thal','restecg'],axis=1)"
   ]
  },
  {
   "cell_type": "markdown",
   "metadata": {},
   "source": [
    "## Data Visualization"
   ]
  },
  {
   "cell_type": "code",
   "execution_count": 21,
   "metadata": {},
   "outputs": [
    {
     "data": {
      "image/png": "[encoded data removed]",
      "text/plain": [
       "<Figure size 720x720 with 1 Axes>"
      ]
     },
     "metadata": {
      "needs_background": "light"
     },
     "output_type": "display_data"
    }
   ],
   "source": [
    "plt.figure(figsize=(10,10))\n",
    "heart['trestbps'].plot.hist()\n",
    "plt.show()"
   ]
  },
  {
   "cell_type": "code",
   "execution_count": 22,
   "metadata": {},
   "outputs": [
    {
     "data": {
      "image/png": "[encoded data removed]",
      "text/plain": [
       "<Figure size 720x720 with 1 Axes>"
      ]
     },
     "metadata": {
      "needs_background": "light"
     },
     "output_type": "display_data"
    }
   ],
   "source": [
    "plt.figure(figsize=(10,10))\n",
    "heart['chol'].plot.hist()\n",
    "plt.show()"
   ]
  },
  {
   "cell_type": "code",
   "execution_count": 23,
   "metadata": {},
   "outputs": [
    {
     "data": {
      "image/png": "[encoded data removed]",
      "text/plain": [
       "<Figure size 720x720 with 1 Axes>"
      ]
     },
     "metadata": {
      "needs_background": "light"
     },
     "output_type": "display_data"
    }
   ],
   "source": [
    "plt.figure(figsize=(10,10))\n",
    "heart['exang'].plot.hist()\n",
    "plt.show()"
   ]
  },
  {
   "cell_type": "code",
   "execution_count": 24,
   "metadata": {},
   "outputs": [
    {
     "data": {
      "image/png": "[encoded data removed]",
      "text/plain": [
       "<Figure size 432x288 with 1 Axes>"
      ]
     },
     "metadata": {
      "needs_background": "light"
     },
     "output_type": "display_data"
    }
   ],
   "source": [
    "sns.barplot(x='predicted',y='chol',data=heart)\n",
    "plt.show()"
   ]
  },
  {
   "cell_type": "code",
   "execution_count": 25,
   "metadata": {},
   "outputs": [
    {
     "data": {
      "image/png": "[encoded data removed]",
      "text/plain": [
       "<Figure size 432x288 with 1 Axes>"
      ]
     },
     "metadata": {
      "needs_background": "light"
     },
     "output_type": "display_data"
    }
   ],
   "source": [
    "sns.barplot(x='predicted',y='slope',data=heart)\n",
    "plt.show()"
   ]
  },
  {
   "cell_type": "code",
   "execution_count": 26,
   "metadata": {},
   "outputs": [
    {
     "data": {
      "image/png": "[encoded data removed]",
      "text/plain": [
       "<Figure size 432x288 with 1 Axes>"
      ]
     },
     "metadata": {
      "needs_background": "light"
     },
     "output_type": "display_data"
    }
   ],
   "source": [
    "sns.countplot(x='predicted',hue='sex',data=heart)\n",
    "plt.show()"
   ]
  },
  {
   "cell_type": "code",
   "execution_count": 27,
   "metadata": {},
   "outputs": [
    {
     "data": {
      "image/png": "[encoded data removed]",
      "text/plain": [
       "<Figure size 432x288 with 1 Axes>"
      ]
     },
     "metadata": {
      "needs_background": "light"
     },
     "output_type": "display_data"
    }
   ],
   "source": [
    "sns.barplot(x='predicted',y='oldpeak',data=heart)\n",
    "plt.show()"
   ]
  },
  {
   "cell_type": "code",
   "execution_count": 28,
   "metadata": {
    "scrolled": false
   },
   "outputs": [
    {
     "data": {
      "text/plain": [
       "age         -0.404091\n",
       "sex         -5.552105\n",
       "cp          -1.648734\n",
       "trestbps     0.673163\n",
       "chol         0.413457\n",
       "fbs          0.680636\n",
       "exang       -1.102593\n",
       "oldpeak      0.693752\n",
       "slope        0.210521\n",
       "predicted    0.297393\n",
       "dtype: float64"
      ]
     },
     "execution_count": 28,
     "metadata": {},
     "output_type": "execute_result"
    }
   ],
   "source": [
    "heart.skew()"
   ]
  },
  {
   "cell_type": "code",
   "execution_count": 29,
   "metadata": {},
   "outputs": [
    {
     "data": {
      "image/png": "[encoded data removed]",
      "text/plain": [
       "<Figure size 432x288 with 1 Axes>"
      ]
     },
     "metadata": {
      "needs_background": "light"
     },
     "output_type": "display_data"
    },
    {
     "data": {
      "image/png": "[encoded data removed]",
      "text/plain": [
       "<Figure size 432x288 with 1 Axes>"
      ]
     },
     "metadata": {
      "needs_background": "light"
     },
     "output_type": "display_data"
    },
    {
     "data": {
      "image/png": "[encoded data removed]",
      "text/plain": [
       "<Figure size 432x288 with 1 Axes>"
      ]
     },
     "metadata": {
      "needs_background": "light"
     },
     "output_type": "display_data"
    },
    {
     "data": {
      "image/png": "[encoded data removed]",
      "text/plain": [
       "<Figure size 432x288 with 1 Axes>"
      ]
     },
     "metadata": {
      "needs_background": "light"
     },
     "output_type": "display_data"
    },
    {
     "data": {
      "image/png": "[encoded data removed]",
      "text/plain": [
       "<Figure size 432x288 with 1 Axes>"
      ]
     },
     "metadata": {
      "needs_background": "light"
     },
     "output_type": "display_data"
    },
    {
     "data": {
      "image/png": "[encoded data removed]",
      "text/plain": [
       "<Figure size 432x288 with 1 Axes>"
      ]
     },
     "metadata": {
      "needs_background": "light"
     },
     "output_type": "display_data"
    },
    {
     "data": {
      "image/png": "[encoded data removed]",
      "text/plain": [
       "<Figure size 432x288 with 1 Axes>"
      ]
     },
     "metadata": {
      "needs_background": "light"
     },
     "output_type": "display_data"
    },
    {
     "data": {
      "image/png": "[encoded data removed]",
      "text/plain": [
       "<Figure size 432x288 with 1 Axes>"
      ]
     },
     "metadata": {
      "needs_background": "light"
     },
     "output_type": "display_data"
    },
    {
     "data": {
      "image/png": "[encoded data removed]",
      "text/plain": [
       "<Figure size 432x288 with 1 Axes>"
      ]
     },
     "metadata": {
      "needs_background": "light"
     },
     "output_type": "display_data"
    },
    {
     "data": {
      "image/png": "[encoded data removed]",
      "text/plain": [
       "<Figure size 432x288 with 1 Axes>"
      ]
     },
     "metadata": {
      "needs_background": "light"
     },
     "output_type": "display_data"
    }
   ],
   "source": [
    "collist=heart.columns.values\n",
    "ncol=15\n",
    "nrow=10\n",
    "for i in heart.columns:\n",
    "    sns.distplot(heart[i],kde_kws={'bw':0.1})\n",
    "    plt.show()"
   ]
  },
  {
   "cell_type": "markdown",
   "metadata": {},
   "source": [
    "## Checking Outliers"
   ]
  },
  {
   "cell_type": "code",
   "execution_count": 30,
   "metadata": {},
   "outputs": [
    {
     "data": {
      "image/png": "[encoded data removed]",
      "text/plain": [
       "<Figure size 720x3600 with 9 Axes>"
      ]
     },
     "metadata": {
      "needs_background": "light"
     },
     "output_type": "display_data"
    }
   ],
   "source": [
    "#let us check outliers for all columns\n",
    "col=heart.columns.values\n",
    "ncol=10\n",
    "nrow=10\n",
    "plt.figure(figsize=(ncol,5*ncol))\n",
    "for i in  range(1,len(col)):\n",
    "    plt.subplot(nrow,ncol,i+1)\n",
    "    sns.boxplot(heart[col[i]],color='green',orient='v')\n",
    "    plt.tight_layout()"
   ]
  },
  {
   "cell_type": "code",
   "execution_count": 31,
   "metadata": {},
   "outputs": [
    {
     "data": {
      "text/plain": [
       "<matplotlib.axes._subplots.AxesSubplot at 0x1d4bec7e188>"
      ]
     },
     "execution_count": 31,
     "metadata": {},
     "output_type": "execute_result"
    },
    {
     "data": {
      "image/png": "[encoded data removed]",
      "text/plain": [
       "<Figure size 432x288 with 1 Axes>"
      ]
     },
     "metadata": {
      "needs_background": "light"
     },
     "output_type": "display_data"
    }
   ],
   "source": [
    "heart['predicted'].plot.box()"
   ]
  },
  {
   "cell_type": "code",
   "execution_count": 32,
   "metadata": {},
   "outputs": [
    {
     "data": {
      "text/plain": [
       "<matplotlib.axes._subplots.AxesSubplot at 0x1d4bf01cd08>"
      ]
     },
     "execution_count": 32,
     "metadata": {},
     "output_type": "execute_result"
    },
    {
     "data": {
      "image/png": "[encoded data removed]",
      "text/plain": [
       "<Figure size 432x288 with 1 Axes>"
      ]
     },
     "metadata": {
      "needs_background": "light"
     },
     "output_type": "display_data"
    }
   ],
   "source": [
    "heart['trestbps'].plot.box()"
   ]
  },
  {
   "cell_type": "markdown",
   "metadata": {},
   "source": [
    "### Observed:"
   ]
  },
  {
   "cell_type": "raw",
   "metadata": {},
   "source": [
    "-> Outliers are present"
   ]
  },
  {
   "cell_type": "markdown",
   "metadata": {},
   "source": [
    "## Removing Outliers"
   ]
  },
  {
   "cell_type": "code",
   "execution_count": 33,
   "metadata": {},
   "outputs": [
    {
     "name": "stdout",
     "output_type": "stream",
     "text": [
      "(200, 10)\n",
      "(185, 10)\n"
     ]
    }
   ],
   "source": [
    "#Removing outliers\n",
    "from scipy.stats import zscore\n",
    "z_score=abs(zscore(heart))\n",
    "print(heart.shape)\n",
    "heartdis=heart.loc[(z_score<3).all(axis=1)]\n",
    "print(heartdis.shape)"
   ]
  },
  {
   "cell_type": "markdown",
   "metadata": {},
   "source": [
    "### Observed:"
   ]
  },
  {
   "cell_type": "raw",
   "metadata": {},
   "source": [
    "-> Outliers are removed"
   ]
  },
  {
   "cell_type": "code",
   "execution_count": 34,
   "metadata": {},
   "outputs": [
    {
     "data": {
      "text/plain": [
       "age         -0.316167\n",
       "sex          0.000000\n",
       "cp          -1.368017\n",
       "trestbps     0.663773\n",
       "chol         0.458334\n",
       "fbs          0.730312\n",
       "exang       -1.139191\n",
       "oldpeak      0.657105\n",
       "slope        0.242120\n",
       "predicted    0.267222\n",
       "dtype: float64"
      ]
     },
     "execution_count": 34,
     "metadata": {},
     "output_type": "execute_result"
    }
   ],
   "source": [
    "heartdis.skew()"
   ]
  },
  {
   "cell_type": "code",
   "execution_count": 35,
   "metadata": {},
   "outputs": [],
   "source": [
    "df_x=heartdis.drop(['predicted'],axis=1)"
   ]
  },
  {
   "cell_type": "code",
   "execution_count": 36,
   "metadata": {},
   "outputs": [
    {
     "data": {
      "text/html": [
       "<div>\n",
       "<style scoped>\n",
       "    .dataframe tbody tr th:only-of-type {\n",
       "        vertical-align: middle;\n",
       "    }\n",
       "\n",
       "    .dataframe tbody tr th {\n",
       "        vertical-align: top;\n",
       "    }\n",
       "\n",
       "    .dataframe thead th {\n",
       "        text-align: right;\n",
       "    }\n",
       "</style>\n",
       "<table border=\"1\" class=\"dataframe\">\n",
       "  <thead>\n",
       "    <tr style=\"text-align: right;\">\n",
       "      <th></th>\n",
       "      <th>age</th>\n",
       "      <th>sex</th>\n",
       "      <th>cp</th>\n",
       "      <th>trestbps</th>\n",
       "      <th>chol</th>\n",
       "      <th>fbs</th>\n",
       "      <th>exang</th>\n",
       "      <th>oldpeak</th>\n",
       "      <th>slope</th>\n",
       "    </tr>\n",
       "  </thead>\n",
       "  <tbody>\n",
       "    <tr>\n",
       "      <th>0</th>\n",
       "      <td>63</td>\n",
       "      <td>1</td>\n",
       "      <td>4</td>\n",
       "      <td>24</td>\n",
       "      <td>62</td>\n",
       "      <td>0</td>\n",
       "      <td>1</td>\n",
       "      <td>11</td>\n",
       "      <td>1</td>\n",
       "    </tr>\n",
       "    <tr>\n",
       "      <th>1</th>\n",
       "      <td>44</td>\n",
       "      <td>1</td>\n",
       "      <td>4</td>\n",
       "      <td>18</td>\n",
       "      <td>28</td>\n",
       "      <td>0</td>\n",
       "      <td>0</td>\n",
       "      <td>1</td>\n",
       "      <td>1</td>\n",
       "    </tr>\n",
       "    <tr>\n",
       "      <th>2</th>\n",
       "      <td>60</td>\n",
       "      <td>1</td>\n",
       "      <td>4</td>\n",
       "      <td>19</td>\n",
       "      <td>35</td>\n",
       "      <td>0</td>\n",
       "      <td>1</td>\n",
       "      <td>6</td>\n",
       "      <td>2</td>\n",
       "    </tr>\n",
       "    <tr>\n",
       "      <th>3</th>\n",
       "      <td>55</td>\n",
       "      <td>1</td>\n",
       "      <td>4</td>\n",
       "      <td>25</td>\n",
       "      <td>45</td>\n",
       "      <td>0</td>\n",
       "      <td>1</td>\n",
       "      <td>10</td>\n",
       "      <td>0</td>\n",
       "    </tr>\n",
       "    <tr>\n",
       "      <th>4</th>\n",
       "      <td>66</td>\n",
       "      <td>1</td>\n",
       "      <td>3</td>\n",
       "      <td>6</td>\n",
       "      <td>31</td>\n",
       "      <td>1</td>\n",
       "      <td>1</td>\n",
       "      <td>5</td>\n",
       "      <td>1</td>\n",
       "    </tr>\n",
       "  </tbody>\n",
       "</table>\n",
       "</div>"
      ],
      "text/plain": [
       "   age  sex  cp  trestbps  chol  fbs  exang  oldpeak  slope\n",
       "0   63    1   4        24    62    0      1       11      1\n",
       "1   44    1   4        18    28    0      0        1      1\n",
       "2   60    1   4        19    35    0      1        6      2\n",
       "3   55    1   4        25    45    0      1       10      0\n",
       "4   66    1   3         6    31    1      1        5      1"
      ]
     },
     "execution_count": 36,
     "metadata": {},
     "output_type": "execute_result"
    }
   ],
   "source": [
    "df_x.head()"
   ]
  },
  {
   "cell_type": "code",
   "execution_count": 37,
   "metadata": {},
   "outputs": [],
   "source": [
    "y=pd.DataFrame(heartdis['predicted'])"
   ]
  },
  {
   "cell_type": "code",
   "execution_count": 38,
   "metadata": {},
   "outputs": [
    {
     "data": {
      "text/html": [
       "<div>\n",
       "<style scoped>\n",
       "    .dataframe tbody tr th:only-of-type {\n",
       "        vertical-align: middle;\n",
       "    }\n",
       "\n",
       "    .dataframe tbody tr th {\n",
       "        vertical-align: top;\n",
       "    }\n",
       "\n",
       "    .dataframe thead th {\n",
       "        text-align: right;\n",
       "    }\n",
       "</style>\n",
       "<table border=\"1\" class=\"dataframe\">\n",
       "  <thead>\n",
       "    <tr style=\"text-align: right;\">\n",
       "      <th></th>\n",
       "      <th>predicted</th>\n",
       "    </tr>\n",
       "  </thead>\n",
       "  <tbody>\n",
       "    <tr>\n",
       "      <th>0</th>\n",
       "      <td>2</td>\n",
       "    </tr>\n",
       "    <tr>\n",
       "      <th>1</th>\n",
       "      <td>0</td>\n",
       "    </tr>\n",
       "    <tr>\n",
       "      <th>2</th>\n",
       "      <td>2</td>\n",
       "    </tr>\n",
       "    <tr>\n",
       "      <th>3</th>\n",
       "      <td>1</td>\n",
       "    </tr>\n",
       "    <tr>\n",
       "      <th>4</th>\n",
       "      <td>0</td>\n",
       "    </tr>\n",
       "  </tbody>\n",
       "</table>\n",
       "</div>"
      ],
      "text/plain": [
       "   predicted\n",
       "0          2\n",
       "1          0\n",
       "2          2\n",
       "3          1\n",
       "4          0"
      ]
     },
     "execution_count": 38,
     "metadata": {},
     "output_type": "execute_result"
    }
   ],
   "source": [
    "y.head()"
   ]
  },
  {
   "cell_type": "code",
   "execution_count": 39,
   "metadata": {},
   "outputs": [],
   "source": [
    "#scaling the input variable\n",
    "from sklearn.preprocessing import StandardScaler\n",
    "sc=StandardScaler()\n",
    "x=sc.fit_transform(df_x)\n",
    "x=pd.DataFrame(x,columns=df_x.columns)"
   ]
  },
  {
   "cell_type": "code",
   "execution_count": 40,
   "metadata": {
    "scrolled": true
   },
   "outputs": [
    {
     "data": {
      "text/plain": [
       "(185, 9)"
      ]
     },
     "execution_count": 40,
     "metadata": {},
     "output_type": "execute_result"
    }
   ],
   "source": [
    "x.shape"
   ]
  },
  {
   "cell_type": "code",
   "execution_count": 41,
   "metadata": {},
   "outputs": [
    {
     "data": {
      "text/plain": [
       "(185, 1)"
      ]
     },
     "execution_count": 41,
     "metadata": {},
     "output_type": "execute_result"
    }
   ],
   "source": [
    "y.shape"
   ]
  },
  {
   "cell_type": "code",
   "execution_count": 42,
   "metadata": {},
   "outputs": [],
   "source": [
    "from sklearn.svm import SVC\n",
    "from sklearn.neighbors import KNeighborsClassifier\n",
    "from sklearn.tree import DecisionTreeClassifier\n",
    "from sklearn.ensemble import AdaBoostClassifier\n",
    "from sklearn.ensemble import RandomForestClassifier\n",
    "from sklearn.model_selection import train_test_split\n",
    "from sklearn.model_selection import cross_val_score\n",
    "from sklearn.model_selection import GridSearchCV\n",
    "from sklearn.metrics import accuracy_score,confusion_matrix,classification_report\n",
    "import warnings\n",
    "warnings.filterwarnings('ignore')"
   ]
  },
  {
   "cell_type": "markdown",
   "metadata": {},
   "source": [
    "### GridSearchCV"
   ]
  },
  {
   "cell_type": "code",
   "execution_count": 43,
   "metadata": {},
   "outputs": [
    {
     "name": "stdout",
     "output_type": "stream",
     "text": [
      "{'C': 1.0, 'kernel': 'rbf'}\n"
     ]
    }
   ],
   "source": [
    "from sklearn import svm\n",
    "svc=svm.SVC()\n",
    "parameters={'kernel':['linear','rbf','poly'],'C':[1.0]}\n",
    "gd=GridSearchCV(svc,parameters)\n",
    "gd.fit(x,y)\n",
    "sorted(gd.cv_results_.keys())\n",
    "print(gd.best_params_)"
   ]
  },
  {
   "cell_type": "code",
   "execution_count": 44,
   "metadata": {},
   "outputs": [
    {
     "name": "stdout",
     "output_type": "stream",
     "text": [
      "{'criterion': 'entropy'}\n"
     ]
    }
   ],
   "source": [
    "dtc=DecisionTreeClassifier()\n",
    "parameters={'criterion':['gini','entropy']}\n",
    "gd=GridSearchCV(dtc,parameters)\n",
    "gd.fit(x,y)\n",
    "sorted(gd.cv_results_.keys())\n",
    "print(gd.best_params_)"
   ]
  },
  {
   "cell_type": "markdown",
   "metadata": {},
   "source": [
    "#### Training our model with corss_val_score so that they won't overfit or underfit"
   ]
  },
  {
   "cell_type": "code",
   "execution_count": 45,
   "metadata": {},
   "outputs": [
    {
     "name": "stdout",
     "output_type": "stream",
     "text": [
      "Score of DecisionTreeClassifier(ccp_alpha=0.0, class_weight=None, criterion='gini',\n",
      "                       max_depth=None, max_features=None, max_leaf_nodes=None,\n",
      "                       min_impurity_decrease=0.0, min_impurity_split=None,\n",
      "                       min_samples_leaf=1, min_samples_split=2,\n",
      "                       min_weight_fraction_leaf=0.0, presort='deprecated',\n",
      "                       random_state=None, splitter='best') is: [0.2972973  0.21621622 0.2972973  0.18918919 0.35135135]\n",
      "Mean score: 0.2702702702702703\n",
      "Standard deviation: 0.059213249460017964\n",
      "*******************************************************************************************************\n",
      "\n",
      "\n",
      "Score of KNeighborsClassifier(algorithm='auto', leaf_size=30, metric='minkowski',\n",
      "                     metric_params=None, n_jobs=None, n_neighbors=5, p=2,\n",
      "                     weights='uniform') is: [0.2972973  0.27027027 0.2972973  0.24324324 0.48648649]\n",
      "Mean score: 0.31891891891891894\n",
      "Standard deviation: 0.0861479862189688\n",
      "*******************************************************************************************************\n",
      "\n",
      "\n",
      "Score of SVC(C=1.0, break_ties=False, cache_size=200, class_weight=None, coef0=0.0,\n",
      "    decision_function_shape='ovr', degree=3, gamma='scale', kernel='rbf',\n",
      "    max_iter=-1, probability=False, random_state=None, shrinking=True,\n",
      "    tol=0.001, verbose=False) is: [0.43243243 0.2972973  0.35135135 0.45945946 0.40540541]\n",
      "Mean score: 0.3891891891891892\n",
      "Standard deviation: 0.05821799791496761\n",
      "*******************************************************************************************************\n",
      "\n",
      "\n",
      "Score of RandomForestClassifier(bootstrap=True, ccp_alpha=0.0, class_weight=None,\n",
      "                       criterion='gini', max_depth=None, max_features='auto',\n",
      "                       max_leaf_nodes=None, max_samples=None,\n",
      "                       min_impurity_decrease=0.0, min_impurity_split=None,\n",
      "                       min_samples_leaf=1, min_samples_split=2,\n",
      "                       min_weight_fraction_leaf=0.0, n_estimators=100,\n",
      "                       n_jobs=None, oob_score=False, random_state=None,\n",
      "                       verbose=0, warm_start=False) is: [0.37837838 0.37837838 0.35135135 0.35135135 0.2972973 ]\n",
      "Mean score: 0.35135135135135137\n",
      "Standard deviation: 0.029606624730008982\n",
      "*******************************************************************************************************\n",
      "\n",
      "\n",
      "Score of AdaBoostClassifier(algorithm='SAMME.R', base_estimator=None, learning_rate=1.0,\n",
      "                   n_estimators=50, random_state=None) is: [0.35135135 0.27027027 0.24324324 0.21621622 0.37837838]\n",
      "Mean score: 0.2918918918918919\n",
      "Standard deviation: 0.06257209136643364\n",
      "*******************************************************************************************************\n",
      "\n",
      "\n"
     ]
    }
   ],
   "source": [
    "from sklearn.model_selection import cross_val_score\n",
    "model=[DecisionTreeClassifier(criterion='gini'),KNeighborsClassifier(),SVC(kernel='rbf'),RandomForestClassifier(),AdaBoostClassifier()]\n",
    "for m in model:\n",
    "    score=cross_val_score(m,x,y,cv=5)\n",
    "    print('Score of',m,'is:',score)\n",
    "    print('Mean score:',score.mean())\n",
    "    print('Standard deviation:',score.std())\n",
    "    print('*******************************************************************************************************')\n",
    "    print('\\n')"
   ]
  },
  {
   "cell_type": "markdown",
   "metadata": {},
   "source": [
    "### Observed:"
   ]
  },
  {
   "cell_type": "raw",
   "metadata": {},
   "source": [
    "-> our models are well trained."
   ]
  },
  {
   "cell_type": "markdown",
   "metadata": {},
   "source": [
    "#### Predicting best accuracy score"
   ]
  },
  {
   "cell_type": "code",
   "execution_count": 46,
   "metadata": {},
   "outputs": [
    {
     "name": "stdout",
     "output_type": "stream",
     "text": [
      "max accuracy score corresponding to  118 is 0.5675675675675675\n"
     ]
    }
   ],
   "source": [
    "max_accuracy_score=0\n",
    "for r_state in range (40,180):\n",
    "    x_train,x_test,y_train,y_test=train_test_split(x,y,random_state=r_state,test_size=.20)\n",
    "    model=[DecisionTreeClassifier(criterion='gini'),KNeighborsClassifier(),SVC(kernel='rbf'),RandomForestClassifier(),AdaBoostClassifier()]\n",
    "    for m in model:\n",
    "        m.fit(x_train,y_train)\n",
    "        y_pred=m.predict(x_test)\n",
    "        r_scr=accuracy_score(y_test,y_pred)\n",
    "        if r_scr>max_accuracy_score:\n",
    "            max_accuracy_score=r_scr\n",
    "            final_r_state=r_state\n",
    "print(\"max accuracy score corresponding to \",final_r_state,\"is\",max_accuracy_score)        "
   ]
  },
  {
   "cell_type": "markdown",
   "metadata": {},
   "source": [
    "#### Observed:"
   ]
  },
  {
   "cell_type": "raw",
   "metadata": {},
   "source": [
    "-> Max accuracy score from all models corresponding to 118 is 0.56"
   ]
  },
  {
   "cell_type": "markdown",
   "metadata": {},
   "source": [
    "### Predicting the best model"
   ]
  },
  {
   "cell_type": "code",
   "execution_count": 49,
   "metadata": {},
   "outputs": [
    {
     "name": "stdout",
     "output_type": "stream",
     "text": [
      "Score of DecisionTreeClassifier(ccp_alpha=0.0, class_weight=None, criterion='gini',\n",
      "                       max_depth=None, max_features=None, max_leaf_nodes=None,\n",
      "                       min_impurity_decrease=0.0, min_impurity_split=None,\n",
      "                       min_samples_leaf=1, min_samples_split=2,\n",
      "                       min_weight_fraction_leaf=0.0, presort='deprecated',\n",
      "                       random_state=None, splitter='best') is: 0.9932432432432432\n",
      "Score:\n",
      "accuracy_score : 0.35135135135135137\n",
      "confusion_matrix : [[4 3 1 3 0]\n",
      " [2 5 2 0 0]\n",
      " [2 2 2 1 2]\n",
      " [3 1 1 1 1]\n",
      " [0 0 0 0 1]]\n",
      "classification_report               precision    recall  f1-score   support\n",
      "\n",
      "           0       0.36      0.36      0.36        11\n",
      "           1       0.45      0.56      0.50         9\n",
      "           2       0.33      0.22      0.27         9\n",
      "           3       0.20      0.14      0.17         7\n",
      "           4       0.25      1.00      0.40         1\n",
      "\n",
      "    accuracy                           0.35        37\n",
      "   macro avg       0.32      0.46      0.34        37\n",
      "weighted avg       0.34      0.35      0.34        37\n",
      "\n",
      "*******************************************************************************************************\n",
      "\n",
      "\n",
      "Score of KNeighborsClassifier(algorithm='auto', leaf_size=30, metric='minkowski',\n",
      "                     metric_params=None, n_jobs=None, n_neighbors=5, p=2,\n",
      "                     weights='uniform') is: 0.5405405405405406\n",
      "Score:\n",
      "accuracy_score : 0.40540540540540543\n",
      "confusion_matrix : [[3 3 0 5 0]\n",
      " [4 5 0 0 0]\n",
      " [1 3 4 1 0]\n",
      " [1 1 1 3 1]\n",
      " [0 0 1 0 0]]\n",
      "classification_report               precision    recall  f1-score   support\n",
      "\n",
      "           0       0.33      0.27      0.30        11\n",
      "           1       0.42      0.56      0.48         9\n",
      "           2       0.67      0.44      0.53         9\n",
      "           3       0.33      0.43      0.38         7\n",
      "           4       0.00      0.00      0.00         1\n",
      "\n",
      "    accuracy                           0.41        37\n",
      "   macro avg       0.35      0.34      0.34        37\n",
      "weighted avg       0.43      0.41      0.41        37\n",
      "\n",
      "*******************************************************************************************************\n",
      "\n",
      "\n",
      "Score of SVC(C=1.0, break_ties=False, cache_size=200, class_weight=None, coef0=0.0,\n",
      "    decision_function_shape='ovr', degree=3, gamma='scale', kernel='rbf',\n",
      "    max_iter=-1, probability=False, random_state=None, shrinking=True,\n",
      "    tol=0.001, verbose=False) is: 0.6013513513513513\n",
      "Score:\n",
      "accuracy_score : 0.3783783783783784\n",
      "confusion_matrix : [[4 6 0 1 0]\n",
      " [1 7 1 0 0]\n",
      " [2 3 0 4 0]\n",
      " [1 3 0 3 0]\n",
      " [0 0 1 0 0]]\n",
      "classification_report               precision    recall  f1-score   support\n",
      "\n",
      "           0       0.50      0.36      0.42        11\n",
      "           1       0.37      0.78      0.50         9\n",
      "           2       0.00      0.00      0.00         9\n",
      "           3       0.38      0.43      0.40         7\n",
      "           4       0.00      0.00      0.00         1\n",
      "\n",
      "    accuracy                           0.38        37\n",
      "   macro avg       0.25      0.31      0.26        37\n",
      "weighted avg       0.31      0.38      0.32        37\n",
      "\n",
      "*******************************************************************************************************\n",
      "\n",
      "\n",
      "Score of RandomForestClassifier(bootstrap=True, ccp_alpha=0.0, class_weight=None,\n",
      "                       criterion='gini', max_depth=None, max_features='auto',\n",
      "                       max_leaf_nodes=None, max_samples=None,\n",
      "                       min_impurity_decrease=0.0, min_impurity_split=None,\n",
      "                       min_samples_leaf=1, min_samples_split=2,\n",
      "                       min_weight_fraction_leaf=0.0, n_estimators=100,\n",
      "                       n_jobs=None, oob_score=False, random_state=None,\n",
      "                       verbose=0, warm_start=False) is: 0.9932432432432432\n",
      "Score:\n",
      "accuracy_score : 0.5405405405405406\n",
      "confusion_matrix : [[4 3 0 4 0]\n",
      " [1 7 1 0 0]\n",
      " [1 2 4 2 0]\n",
      " [2 0 0 4 1]\n",
      " [0 0 0 0 1]]\n",
      "classification_report               precision    recall  f1-score   support\n",
      "\n",
      "           0       0.50      0.36      0.42        11\n",
      "           1       0.58      0.78      0.67         9\n",
      "           2       0.80      0.44      0.57         9\n",
      "           3       0.40      0.57      0.47         7\n",
      "           4       0.50      1.00      0.67         1\n",
      "\n",
      "    accuracy                           0.54        37\n",
      "   macro avg       0.56      0.63      0.56        37\n",
      "weighted avg       0.57      0.54      0.53        37\n",
      "\n",
      "*******************************************************************************************************\n",
      "\n",
      "\n",
      "Score of AdaBoostClassifier(algorithm='SAMME.R', base_estimator=None, learning_rate=1.0,\n",
      "                   n_estimators=50, random_state=None) is: 0.4527027027027027\n",
      "Score:\n",
      "accuracy_score : 0.35135135135135137\n",
      "confusion_matrix : [[5 5 1 0 0]\n",
      " [4 4 1 0 0]\n",
      " [2 1 3 3 0]\n",
      " [0 2 4 0 1]\n",
      " [0 0 0 0 1]]\n",
      "classification_report               precision    recall  f1-score   support\n",
      "\n",
      "           0       0.45      0.45      0.45        11\n",
      "           1       0.33      0.44      0.38         9\n",
      "           2       0.33      0.33      0.33         9\n",
      "           3       0.00      0.00      0.00         7\n",
      "           4       0.50      1.00      0.67         1\n",
      "\n",
      "    accuracy                           0.35        37\n",
      "   macro avg       0.32      0.45      0.37        37\n",
      "weighted avg       0.31      0.35      0.33        37\n",
      "\n",
      "*******************************************************************************************************\n",
      "\n",
      "\n"
     ]
    }
   ],
   "source": [
    "model=[DecisionTreeClassifier(criterion='gini'),KNeighborsClassifier(),SVC(kernel='rbf'),RandomForestClassifier(),AdaBoostClassifier()]\n",
    "for m in model:\n",
    "    x_train,x_test,y_train,y_test=train_test_split(x,y,random_state=94,test_size=.20)\n",
    "    m.fit(x_train,y_train)\n",
    "    print('Score of',m,'is:',m.score(x_train,y_train))\n",
    "    predm=m.predict(x_test)\n",
    "    print('Score:')\n",
    "    print('accuracy_score :',accuracy_score(y_test,predm))\n",
    "    print('confusion_matrix :',confusion_matrix(y_test,predm))\n",
    "    print('classification_report',classification_report(y_test,predm))\n",
    "    print('*******************************************************************************************************')\n",
    "    print('\\n')"
   ]
  },
  {
   "cell_type": "markdown",
   "metadata": {},
   "source": [
    "### Observed:"
   ]
  },
  {
   "cell_type": "raw",
   "metadata": {},
   "source": [
    "1) score of DecisionTreeClassifier   = 99% and accuracy score = 35%\n",
    "2) score of KNeighborsClassifier     = 54% and accuracy score = 40%         \n",
    "3) Score of SVC                      = 60% and accuracy score = 37%\n",
    "4) Score of RandomForestClassifier   = 99% and accuracy socre = 54%\n",
    "5) Score of AdaBoostClassifier       = 45% and accuracy score = 35%"
   ]
  },
  {
   "cell_type": "raw",
   "metadata": {},
   "source": [
    "-> If accuracy score is more then errors will be less as observed above among all models  RandomForestClassifier gives Score of RandomForestClassifier as 99% and accuracy score as 54% .Hance we select RandomForestClassifier as our best model."
   ]
  },
  {
   "cell_type": "markdown",
   "metadata": {},
   "source": [
    "### Saving the best model"
   ]
  },
  {
   "cell_type": "code",
   "execution_count": 50,
   "metadata": {},
   "outputs": [
    {
     "data": {
      "text/plain": [
       "['heartdisease.pkl']"
      ]
     },
     "execution_count": 50,
     "metadata": {},
     "output_type": "execute_result"
    }
   ],
   "source": [
    "#RandomForestClassifier is best model among all models\n",
    "import joblib\n",
    "joblib.dump(RandomForestClassifier,'heartdisease.pkl')"
   ]
  },
  {
   "cell_type": "markdown",
   "metadata": {},
   "source": [
    "### Conclusion:"
   ]
  },
  {
   "cell_type": "raw",
   "metadata": {},
   "source": [
    "-> RandomForestRegressor is selected as best model and save as heartdisease.pkl"
   ]
  }
 ],
 "metadata": {
  "kernelspec": {
   "display_name": "Python 3",
   "language": "python",
   "name": "python3"
  },
  "language_info": {
   "codemirror_mode": {
    "name": "ipython",
    "version": 3
   },
   "file_extension": ".py",
   "mimetype": "text/x-python",
   "name": "python",
   "nbconvert_exporter": "python",
   "pygments_lexer": "ipython3",
   "version": "3.7.6"
  }
 },
 "nbformat": 4,
 "nbformat_minor": 4
}
